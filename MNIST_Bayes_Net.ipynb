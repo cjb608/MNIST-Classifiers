{
  "nbformat": 4,
  "nbformat_minor": 0,
  "metadata": {
    "colab": {
      "provenance": []
    },
    "kernelspec": {
      "name": "python3",
      "display_name": "Python 3"
    },
    "language_info": {
      "name": "python"
    }
  },
  "cells": [
    {
      "cell_type": "code",
      "execution_count": 1,
      "metadata": {
        "id": "Zm85KgFxWwqr"
      },
      "outputs": [],
      "source": [
        "import numpy as np\n",
        "import tensorflow as tf"
      ]
    },
    {
      "cell_type": "markdown",
      "source": [
        "#Load and Prepare the MNIST Dataset"
      ],
      "metadata": {
        "id": "Nz1By3TEXBxM"
      }
    },
    {
      "cell_type": "code",
      "source": [
        "# Load the MNIST dataset and split it into training and test sets\n",
        "(x_train, y_train), (x_test, y_test) = tf.keras.datasets.mnist.load_data()\n",
        "\n",
        "# Convert 0/255 to 0/1\n",
        "x_train_int = [np.round(1.0 * i / 256) for i in x_train]\n",
        "x_test_int = [np.round(1.0 * i / 256) for i in x_test]"
      ],
      "metadata": {
        "colab": {
          "base_uri": "https://localhost:8080/"
        },
        "id": "17JOZ0oPW7n2",
        "outputId": "fc943683-14f3-445a-ad93-1b0a3496ca9e"
      },
      "execution_count": 2,
      "outputs": [
        {
          "output_type": "stream",
          "name": "stdout",
          "text": [
            "Downloading data from https://storage.googleapis.com/tensorflow/tf-keras-datasets/mnist.npz\n",
            "11490434/11490434 [==============================] - 0s 0us/step\n"
          ]
        }
      ]
    },
    {
      "cell_type": "markdown",
      "source": [
        "#Bayes Net Classifier"
      ],
      "metadata": {
        "id": "RpSPzWwCXJVV"
      }
    },
    {
      "cell_type": "markdown",
      "source": [
        "##Calcualte $p(x_i=0|x_j,x_k,y)$ and $p(x_i=1|x_j,x_k,y)$"
      ],
      "metadata": {
        "id": "uXPV6oZtXPet"
      }
    },
    {
      "cell_type": "code",
      "source": [
        "pixel_counts = np.zeros([2, 10, 4, 28, 28])\n",
        "totals = np.zeros([10, 4 ,28, 28])\n",
        "\n",
        "# Pad the input to handle boundary conditions for conditional probabilities \n",
        "x_train_padded = np.pad(np.array(x_train_int), [(0, 0), (1, 0), (1, 0)], mode='constant', constant_values=0)\n",
        "\n",
        "# Loop over all the training samples\n",
        "for i in range(np.shape(x_train_padded)[0]):\n",
        "  # Loop over the rows excluding padding\n",
        "  for j in range(1, np.shape(x_train_padded)[1]):\n",
        "    # Loop over the columns excluding padding\n",
        "    for k in range(1, np.shape(x_train_padded)[2]):\n",
        "      # Get the value of the pixel to the left of the current pixel\n",
        "      left_pixel = x_train_padded[i, j, k-1]\n",
        "      # Get the value of the pixel above the current pixel\n",
        "      above_pixel = x_train_padded[i, j-1, k]\n",
        "      # Check is left and above pixel both equal 0\n",
        "      if left_pixel == 0 and above_pixel == 0:\n",
        "        totals[y_train[i], 0, j-1, k-1] += 1\n",
        "        # Check if the current pixel equals 1\n",
        "        if x_train_padded[i, j, k] == 1:\n",
        "          pixel_counts[1, y_train[i], 0, j-1, k-1] += 1\n",
        "      # Check if left pixel equals 0 and above pixel equals 1\n",
        "      elif left_pixel == 0 and above_pixel == 1:\n",
        "        totals[y_train[i], 1, j-1, k-1] += 1\n",
        "        #Check if the current pixel equals 1\n",
        "        if x_train_padded[i, j, k] == 1:\n",
        "          pixel_counts[1, y_train[i], 1, j-1, k-1] += 1\n",
        "      # Check if left pixel equals 1 and above pixel equals 0\n",
        "      elif left_pixel == 1 and above_pixel == 0:\n",
        "        totals[y_train[i], 2, j-1, k-1] += 1\n",
        "        # Check if the current pixel equals 1\n",
        "        if x_train_padded[i, j, k] == 1:\n",
        "          pixel_counts[1, y_train[i], 2, j-1, k-1] += 1\n",
        "      #Check if left and above pixel both equal 1\n",
        "      elif left_pixel == 1 and above_pixel == 1:\n",
        "        totals[y_train[i], 3, j-1, k-1] += 1\n",
        "        # Check if the current pixel equals 1\n",
        "        if x_train_padded[i, j, k] == 1:\n",
        "          pixel_counts[1, y_train[i], 3, j-1, k-1] += 1\n",
        "\n",
        "# Calculate the 0 pixel counts from the 1 pixel counts\n",
        "pixel_counts[0, :, :, :, :] = totals - pixel_counts[1, :, :, :, :]\n",
        "\n",
        "# Calculate the probabilities and add Laplace smoothing\n",
        "p_xi_y = (pixel_counts + 1) / (totals + 2)\n",
        "\n",
        "# Calculate the log probabilities\n",
        "log_p_xi_y = np.log10(p_xi_y)"
      ],
      "metadata": {
        "id": "KQlR5Ua0XK9r"
      },
      "execution_count": 23,
      "outputs": []
    },
    {
      "cell_type": "markdown",
      "source": [
        "##Bayes Net classification function"
      ],
      "metadata": {
        "id": "VWaj-tRKb9xh"
      }
    },
    {
      "cell_type": "code",
      "source": [
        "def bayes_net(_x_test):\n",
        "  p_x_test = np.zeros([10, 1])\n",
        "  # Loop over all classes\n",
        "  for i in range(10):\n",
        "    # Loop over rows excluding padding\n",
        "    for j in range(1, np.shape(_x_test)[0]):\n",
        "      # Loop over columns excluding padding\n",
        "      for k in range(1, np.shape(_x_test)[1]):\n",
        "        # Get the value of the pixel to the left of the current pixel\n",
        "        left_pixel = _x_test[j, k-1]\n",
        "        # Get the value of the pixel above the current pixel\n",
        "        above_pixel = _x_test[j-1, k]\n",
        "        # Check if current pixel equals 1 and left and above pixel both equal 0\n",
        "        if _x_test[j, k] == 1 and left_pixel == 0 and above_pixel == 0:\n",
        "          p_x_test[i] += log_p_xi_y[1, i, 0, j-1, k-1]\n",
        "        # Check if current pixel equals 1 and left pixel equals 0 and above pixel equals 1\n",
        "        elif _x_test[j, k] == 1 and left_pixel == 0 and above_pixel == 1:\n",
        "          p_x_test[i] += log_p_xi_y[1, i, 1, j-1, k-1]\n",
        "        # Check if current pixel equals 1 and left pixel equals 1 and above pixel equals 0\n",
        "        elif _x_test[j, k] == 1 and left_pixel == 1 and above_pixel == 0:\n",
        "          p_x_test[i] += log_p_xi_y[1, i, 2, j-1, k-1]\n",
        "        # Check if current pixel equals 1 and left and above pixel both equal 1\n",
        "        elif _x_test[j, k] == 1 and left_pixel == 1 and above_pixel == 1:\n",
        "          p_x_test[i] += log_p_xi_y[1, i, 3, j-1, k-1]\n",
        "        # Check if current pixel equals 0 and left and above pixel both equal 0\n",
        "        elif _x_test[j, k] == 0 and left_pixel == 0 and above_pixel == 0:\n",
        "          p_x_test[i] += log_p_xi_y[0, i, 0, j-1, k-1]\n",
        "        # Check if current pixel equals 0 and left pixel equals 0 and above pixel equals 1\n",
        "        elif _x_test[j, k] == 0 and left_pixel == 0 and above_pixel == 1:\n",
        "          p_x_test[i] += log_p_xi_y[0, i, 1, j-1, k-1]\n",
        "        # Check if current pixel equals 0 and left pixel equals 1 and above pixel equals 0\n",
        "        elif _x_test[j, k] == 0 and left_pixel == 1 and above_pixel == 0:\n",
        "          p_x_test[i] += log_p_xi_y[0, i, 2, j-1, k-1]\n",
        "        # Check if current pixel equals 0 and left and above pixel both equal 1\n",
        "        elif _x_test[j, k] == 0 and left_pixel == 1 and above_pixel == 1:\n",
        "          p_x_test[i] += log_p_xi_y[0, i, 3, j-1, k-1]\n",
        "  y = np.argmax(p_x_test)\n",
        "  return y"
      ],
      "metadata": {
        "id": "x4x9k9ZVYPQR"
      },
      "execution_count": 42,
      "outputs": []
    },
    {
      "cell_type": "markdown",
      "source": [
        "##Predict the test classes"
      ],
      "metadata": {
        "id": "XvTf6x25giKd"
      }
    },
    {
      "cell_type": "code",
      "source": [
        "x_test_padded = np.pad(np.array(x_test_int), [(0, 0), (1, 0), (1, 0)], mode='constant', constant_values=0)\n",
        "y_hat = []\n",
        "\n",
        "for i in range(10000):\n",
        "  y_hat.append(bayes_net(x_test_padded[i]))\n",
        "\n",
        "print('The empirical risk when using the missclassification loss function =', np.count_nonzero(y_hat - y_test) / 10000)\n",
        "print('The empirical risk when using the squared error loss function =', sum((y_hat - y_test)**2) / 10000)"
      ],
      "metadata": {
        "colab": {
          "base_uri": "https://localhost:8080/"
        },
        "id": "4sqfGOTNgi1s",
        "outputId": "0c9a34ce-707d-42de-b6fd-8cc1ba04a1bf"
      },
      "execution_count": 43,
      "outputs": [
        {
          "output_type": "stream",
          "name": "stdout",
          "text": [
            "The empirical risk when using the missclassification loss function = 0.0728\n",
            "The empirical risk when using the squared error loss function = 1.2504\n"
          ]
        }
      ]
    }
  ]
}