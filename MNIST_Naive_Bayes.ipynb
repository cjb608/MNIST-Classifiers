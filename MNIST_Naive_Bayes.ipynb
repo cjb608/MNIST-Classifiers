{
  "nbformat": 4,
  "nbformat_minor": 0,
  "metadata": {
    "colab": {
      "provenance": []
    },
    "kernelspec": {
      "name": "python3",
      "display_name": "Python 3"
    },
    "language_info": {
      "name": "python"
    },
    "accelerator": "GPU",
    "gpuClass": "standard"
  },
  "cells": [
    {
      "cell_type": "code",
      "execution_count": null,
      "metadata": {
        "id": "dcjJokAKWMqL"
      },
      "outputs": [],
      "source": [
        "import numpy as np\n",
        "import tensorflow as tf"
      ]
    },
    {
      "cell_type": "markdown",
      "source": [
        "#Load and Prepare the MNIST Dataset"
      ],
      "metadata": {
        "id": "R3LSrf1vW7-i"
      }
    },
    {
      "cell_type": "code",
      "source": [
        "# Load the MNIST dataset and split it into training and test sets\n",
        "(x_train, y_train), (x_test, y_test) = tf.keras.datasets.mnist.load_data()\n",
        "\n",
        "# Convert 0/255 to 0/1\n",
        "x_train_int = [np.round(1.0 * i / 256) for i in x_train]\n",
        "x_test_int = [np.round(1.0 * i / 256) for i in x_test]"
      ],
      "metadata": {
        "id": "yZxCVelZWTCg"
      },
      "execution_count": null,
      "outputs": []
    },
    {
      "cell_type": "markdown",
      "source": [
        "#Naive Bayes Classifier"
      ],
      "metadata": {
        "id": "xY68SYd7XY9-"
      }
    },
    {
      "cell_type": "markdown",
      "source": [
        "##Calcualte $p(x_i=0|y)$ and $p(x_i=1|y)$"
      ],
      "metadata": {
        "id": "m2ByqdpHYi21"
      }
    },
    {
      "cell_type": "markdown",
      "source": [
        "###Count the number of pixels equal to 0 and 1 for each training sample"
      ],
      "metadata": {
        "id": "brneBKcXalv4"
      }
    },
    {
      "cell_type": "code",
      "source": [
        "x_train_flat = np.reshape(x_train_int, [60000, 784])\n",
        "zeros_cnt = np.zeros([10, 784])\n",
        "ones_cnt = np.zeros([10, 784])\n",
        "total_each_class = np.zeros([10, 1])\n",
        "\n",
        "# Loop over the 10 classes\n",
        "for i in range(10):\n",
        "  # Loop over all the training examples\n",
        "  for j in range(len(x_train_flat)):\n",
        "    # Count the number of occurances of each class\n",
        "    if y_train[j] == i:\n",
        "      total_each_class[i] += 1\n",
        "      # Loop over every pixel of the training sample\n",
        "      for k in range(784):\n",
        "        # Count the number of pixels equal to 1 in the training sample\n",
        "        if x_train_flat[j, k] == 1:\n",
        "          ones_cnt[i, k] += 1\n",
        "# Get the number of pixels equal to 0 in all training samples\n",
        "zeros_cnt = total_each_class - ones_cnt"
      ],
      "metadata": {
        "id": "1ODoPl3OXUxh"
      },
      "execution_count": null,
      "outputs": []
    },
    {
      "cell_type": "markdown",
      "source": [
        "###Estimate the log probabilities"
      ],
      "metadata": {
        "id": "YBcG41t4a2yI"
      }
    },
    {
      "cell_type": "code",
      "source": [
        "p_x_0 = np.zeros([10, 784])\n",
        "logp_x_0 = np.zeros([10, 784])\n",
        "\n",
        "# Loop over the 10 classes\n",
        "for i in range(10):\n",
        "  # Loop over all the pixels\n",
        "  for j in range(784):\n",
        "    # Check if there are no pixels equal to 0 \n",
        "    if zeros_cnt[i, j] == 0:\n",
        "      # Laplace smoothing\n",
        "      p_x_0[i, j] = (zeros_cnt[i, j] + 0.7) / (total_each_class[i] + 0.7)\n",
        "    else:\n",
        "      p_x_0[i, j] = zeros_cnt[i, j] / total_each_class[i]\n",
        "    # Calculate the log probabilites to avoid multiplying by a small number\n",
        "    logp_x_0[i, j] = np.log10(p_x_0[i, j])"
      ],
      "metadata": {
        "id": "aevchZu3ag_4"
      },
      "execution_count": null,
      "outputs": []
    },
    {
      "cell_type": "code",
      "source": [
        "p_x_1 = np.zeros([10, 784])\n",
        "logp_x_1 = np.zeros([10, 784])\n",
        "\n",
        "# Loop over the 10 classes\n",
        "for i in range(10):\n",
        "  # Loop over all the pixels\n",
        "  for j in range(784):\n",
        "    # Check if there a no pixels equal to 1\n",
        "    if ones_cnt[i, j] == 0:\n",
        "      # Laplce smoothing\n",
        "      p_x_1[i, j] = (ones_cnt[i, j] + 0.7) / (total_each_class[i] + 0.7)\n",
        "    else:\n",
        "      p_x_1[i, j] = ones_cnt[i, j] / total_each_class[i]\n",
        "    # Calculate the log porbabilities to avoid multiplying by a small number\n",
        "    logp_x_1[i, j] = np.log10(p_x_1[i, j])"
      ],
      "metadata": {
        "id": "oGk6L27bd55v"
      },
      "execution_count": null,
      "outputs": []
    },
    {
      "cell_type": "markdown",
      "source": [
        "##Naive Bayes classification function"
      ],
      "metadata": {
        "id": "zfptvSDNe_SO"
      }
    },
    {
      "cell_type": "code",
      "source": [
        "def naive_bayes(_x_test):\n",
        "  p_x_test = np.zeros([10, 1])\n",
        "  # Loop over the 10 classes\n",
        "  for i in range(10):\n",
        "    # Loop over all the pixels\n",
        "    for j in range(784):\n",
        "      # Check if the current pixel is equal to 0 or 1\n",
        "      if _x_test[j] == 0:\n",
        "        p_x_test[i] += logp_x_0[i, j]\n",
        "      elif _x_test[j] == 1:\n",
        "        p_x_test[i] += logp_x_1[i, j]\n",
        "  y = np.argmax(p_x_test)\n",
        "  return y"
      ],
      "metadata": {
        "id": "iXhiwf0WfCY4"
      },
      "execution_count": null,
      "outputs": []
    },
    {
      "cell_type": "markdown",
      "source": [
        "##Predict the test classes"
      ],
      "metadata": {
        "id": "ji46BYE2gx3A"
      }
    },
    {
      "cell_type": "code",
      "source": [
        "x_test_flat = np.reshape(x_test_int, [10000, 784])\n",
        "y_hat = []\n",
        "\n",
        "for i in range(10000):\n",
        "  y_hat.append(naive_bayes(x_test_flat[i]))\n",
        "\n",
        "print('The empirical risk when using the missclassification loss function =', np.count_nonzero(y_hat - y_test) / 10000)\n",
        "print('The empirical risk when using the squared error loss function =', sum((y_hat - y_test)**2) / 10000)"
      ],
      "metadata": {
        "colab": {
          "base_uri": "https://localhost:8080/"
        },
        "id": "FLQ2facTg0kL",
        "outputId": "4426672b-af1d-4cb1-fc31-4ac8f774d222"
      },
      "execution_count": null,
      "outputs": [
        {
          "output_type": "stream",
          "name": "stdout",
          "text": [
            "The empirical risk when using the missclassification loss function = 0.1565\n",
            "The empirical risk when using the squared error loss function = 2.8319\n"
          ]
        }
      ]
    }
  ]
}