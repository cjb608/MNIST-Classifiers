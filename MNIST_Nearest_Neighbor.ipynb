{
  "nbformat": 4,
  "nbformat_minor": 0,
  "metadata": {
    "colab": {
      "provenance": []
    },
    "kernelspec": {
      "name": "python3",
      "display_name": "Python 3"
    },
    "language_info": {
      "name": "python"
    }
  },
  "cells": [
    {
      "cell_type": "code",
      "execution_count": null,
      "metadata": {
        "id": "aBOadA-nKKbt"
      },
      "outputs": [],
      "source": [
        "import numpy as np\n",
        "import tensorflow as tf"
      ]
    },
    {
      "cell_type": "markdown",
      "source": [
        "#Load and Prepare the MNIST Dataset"
      ],
      "metadata": {
        "id": "VY74ScghMib-"
      }
    },
    {
      "cell_type": "code",
      "source": [
        "# Load the MNIST dataset and split it into training and test sets\n",
        "(x_train, y_train), (x_test, y_test) = tf.keras.datasets.mnist.load_data()\n",
        "\n",
        "# Type conversion to float\n",
        "x_train = x_train.astype(float)\n",
        "y_train = y_train.astype(float)\n",
        "x_text = x_test.astype(float)\n",
        "y_test = y_test.astype(float)\n",
        "\n",
        "# Only use the first 2000 training examples\n",
        "x_train = x_train[0:2000,:,:]\n",
        "y_train = y_train[0:2000]"
      ],
      "metadata": {
        "id": "EKdi1Mi6KX_U"
      },
      "execution_count": null,
      "outputs": []
    },
    {
      "cell_type": "markdown",
      "source": [
        "#Nearest Neighbor Classifier"
      ],
      "metadata": {
        "id": "iyqcsS5IMsJR"
      }
    },
    {
      "cell_type": "markdown",
      "source": [
        "## Nearest neighbor classification function"
      ],
      "metadata": {
        "id": "XhLGqQYQOPGE"
      }
    },
    {
      "cell_type": "code",
      "source": [
        "def nearest_neighbor(_x_test):\n",
        "  # Check to make sure input is the correct shape (28x28)\n",
        "  assert np.shape(_x_test) == np.shape(x_train[0])\n",
        "  # Nearest neighbor using l2 distance\n",
        "  nn = np.argmin(np.linalg.norm((np.array(x_train) - np.array(_x_test)), axis=(1,2)))\n",
        "  y_pred = y_train[nn]\n",
        "  return y_pred"
      ],
      "metadata": {
        "id": "ac1NfKc_MzV4"
      },
      "execution_count": null,
      "outputs": []
    },
    {
      "cell_type": "markdown",
      "source": [
        "##Predict the classes for the first 1000 test images"
      ],
      "metadata": {
        "id": "g0_NZCzjOB7d"
      }
    },
    {
      "cell_type": "code",
      "source": [
        "y_hat = []\n",
        "for i in range(1000):\n",
        "  y_hat.append(nearest_neighbor(x_test[i]))\n",
        "\n",
        "print('The empirical risk when using the missclassification loss function =', np.count_nonzero(y_hat - y_test[:1000]) / 1000)\n",
        "print('The empirical risk when using the squared error loss function =', sum((y_hat - y_test[:1000])**2) / 1000)"
      ],
      "metadata": {
        "colab": {
          "base_uri": "https://localhost:8080/"
        },
        "id": "neWQRCJWOBFt",
        "outputId": "2fb4f097-636f-4189-b8d4-87bfa333c1fd"
      },
      "execution_count": null,
      "outputs": [
        {
          "output_type": "stream",
          "name": "stdout",
          "text": [
            "The empirical risk when using the missclassification loss function = 0.127\n",
            "The empirical risk when using the squared error loss function = 2.103\n"
          ]
        }
      ]
    },
    {
      "cell_type": "markdown",
      "source": [
        "#K Nearest Neighbor Classifier"
      ],
      "metadata": {
        "id": "s6WQMYLVQY1E"
      }
    },
    {
      "cell_type": "markdown",
      "source": [
        "##K nearest neighbor classification function"
      ],
      "metadata": {
        "id": "Hkuekr6TQdOo"
      }
    },
    {
      "cell_type": "code",
      "source": [
        "def k_nearest_neighbor(_k, _x_test):\n",
        "  # Check to make sure input is the correct shape (28x28)\n",
        "  assert np.shape(_x_test) == np.shape(x_train[0])\n",
        "  # k nearest neighbor using l2 distance\n",
        "  nn = np.take(np.argpartition(np.linalg.norm((np.array(x_train) - np.array(_x_test)), axis=(1,2)), range(_k)), np.arange(_k))\n",
        "  y_pred = np.bincount(y_train[nn].astype(int)).argmax()\n",
        "  return y_pred"
      ],
      "metadata": {
        "id": "i8x8cg85Pcfn"
      },
      "execution_count": null,
      "outputs": []
    },
    {
      "cell_type": "markdown",
      "source": [
        "##Predict the classes for the first 1000 test images"
      ],
      "metadata": {
        "id": "kIFKgQImRtjE"
      }
    },
    {
      "cell_type": "code",
      "source": [
        "k = 10\n",
        "y_hat = []\n",
        "for i in range(1000):\n",
        "  y_hat.append(k_nearest_neighbor(k, x_test[i]))\n",
        "\n",
        "print('The empirical risk when using the missclassification loss function =', np.count_nonzero(y_hat - y_test[:1000]) / 1000)\n",
        "print('The empirical risk when using the squared error loss function =', sum((y_hat - y_test[:1000])**2) / 1000)"
      ],
      "metadata": {
        "colab": {
          "base_uri": "https://localhost:8080/"
        },
        "id": "-7zbg8GvRYS1",
        "outputId": "2ca308e5-61bc-41bd-8dc0-f8d195ae6513"
      },
      "execution_count": null,
      "outputs": [
        {
          "output_type": "stream",
          "name": "stdout",
          "text": [
            "The empirical risk when using the missclassification loss function = 0.136\n",
            "The empirical risk when using the squared error loss function = 2.394\n"
          ]
        }
      ]
    }
  ]
}